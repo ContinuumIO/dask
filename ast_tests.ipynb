{
 "cells": [
  {
   "cell_type": "code",
   "execution_count": 1,
   "metadata": {},
   "outputs": [],
   "source": [
    "from dask.optimization_ast import ASTFunction, ASTDaskBuilder\n",
    "import ast\n",
    "import astor\n",
    "import pickle"
   ]
  },
  {
   "cell_type": "code",
   "execution_count": 2,
   "metadata": {
    "scrolled": false
   },
   "outputs": [
    {
     "data": {
      "text/plain": [
       "24"
      ]
     },
     "execution_count": 2,
     "metadata": {},
     "output_type": "execute_result"
    }
   ],
   "source": [
    "import dask.array as da\n",
    "a = da.arange(4, chunks=2)\n",
    "a = ((a + 1) * ((a > 2) + 2)).sum()\n",
    "builder = ASTDaskBuilder(a.dask, a.__dask_keys__()[0])\n",
    "func = ASTFunction(builder.tree, builder.constant_kwargs)\n",
    "func()"
   ]
  },
  {
   "cell_type": "code",
   "execution_count": 3,
   "metadata": {},
   "outputs": [
    {
     "name": "stdout",
     "output_type": "stream",
     "text": [
      "import dask.array.chunk\n",
      "import dask.array.core\n",
      "import numpy.core.fromnumeric\n",
      "\n",
      "\n",
      "def _ast_compiled():\n",
      "    dsk_arange = dask.array.chunk.arange(0, 2, 1, 2, 'int64')\n",
      "    dsk_add = dsk_arange + 1\n",
      "    dsk_gt = dsk_arange > 2\n",
      "    dsk_add_1 = dsk_gt + 2\n",
      "    dsk_mul = dsk_add * dsk_add_1\n",
      "    dsk_sum = numpy.core.fromnumeric.sum(dsk_mul, axis=(0,), keepdims=True,\n",
      "        dtype='int64')\n",
      "    dsk_arange_1 = dask.array.chunk.arange(2, 4, 1, 2, 'int64')\n",
      "    dsk_add_2 = dsk_arange_1 + 1\n",
      "    dsk_gt_1 = dsk_arange_1 > 2\n",
      "    dsk_add_3 = dsk_gt_1 + 2\n",
      "    dsk_mul_1 = dsk_add_2 * dsk_add_3\n",
      "    dsk_sum_1 = numpy.core.fromnumeric.sum(dsk_mul_1, axis=(0,), keepdims=\n",
      "        True, dtype='int64')\n",
      "    dsk_sum_2 = numpy.core.fromnumeric.sum(dask.array.core._concatenate2([\n",
      "        dsk_sum, dsk_sum_1], axes=(0,)), dtype='int64', axis=(0,), keepdims\n",
      "        =False)\n",
      "    return dsk_sum_2\n",
      "\n"
     ]
    }
   ],
   "source": [
    "print(func.source)"
   ]
  },
  {
   "cell_type": "code",
   "execution_count": 4,
   "metadata": {},
   "outputs": [
    {
     "data": {
      "text/plain": [
       "24"
      ]
     },
     "execution_count": 4,
     "metadata": {},
     "output_type": "execute_result"
    }
   ],
   "source": [
    "pickle.loads(pickle.dumps(func))()"
   ]
  },
  {
   "cell_type": "code",
   "execution_count": 5,
   "metadata": {},
   "outputs": [
    {
     "name": "stdout",
     "output_type": "stream",
     "text": [
      "{('add-33cba7fa3ec2aff46cefd3edb3d7a8d3', 0): (<built-in function add>,\n",
      "                                               ('arange-a6743cea2a905a0cf2f23016494fe90a',\n",
      "                                                0),\n",
      "                                               1),\n",
      " ('add-33cba7fa3ec2aff46cefd3edb3d7a8d3', 1): (<built-in function add>,\n",
      "                                               ('arange-a6743cea2a905a0cf2f23016494fe90a',\n",
      "                                                1),\n",
      "                                               1),\n",
      " ('add-57936cca728ab097b21206a93fea4d36', 0): (<built-in function add>,\n",
      "                                               ('gt-d18a367d4137311a7a456e4468544ba7',\n",
      "                                                0),\n",
      "                                               2),\n",
      " ('add-57936cca728ab097b21206a93fea4d36', 1): (<built-in function add>,\n",
      "                                               ('gt-d18a367d4137311a7a456e4468544ba7',\n",
      "                                                1),\n",
      "                                               2),\n",
      " ('arange-a6743cea2a905a0cf2f23016494fe90a', 0): (<function arange at 0x7ff84a8b5268>,\n",
      "                                                  0,\n",
      "                                                  2,\n",
      "                                                  1,\n",
      "                                                  2,\n",
      "                                                  dtype('int64')),\n",
      " ('arange-a6743cea2a905a0cf2f23016494fe90a', 1): (<function arange at 0x7ff84a8b5268>,\n",
      "                                                  2,\n",
      "                                                  4,\n",
      "                                                  1,\n",
      "                                                  2,\n",
      "                                                  dtype('int64')),\n",
      " ('gt-d18a367d4137311a7a456e4468544ba7', 0): (<built-in function gt>,\n",
      "                                              ('arange-a6743cea2a905a0cf2f23016494fe90a',\n",
      "                                               0),\n",
      "                                              2),\n",
      " ('gt-d18a367d4137311a7a456e4468544ba7', 1): (<built-in function gt>,\n",
      "                                              ('arange-a6743cea2a905a0cf2f23016494fe90a',\n",
      "                                               1),\n",
      "                                              2),\n",
      " ('mul-a59cec3dddb377746c1529feb386ab9f', 0): (<built-in function mul>,\n",
      "                                               ('add-33cba7fa3ec2aff46cefd3edb3d7a8d3',\n",
      "                                                0),\n",
      "                                               ('add-57936cca728ab097b21206a93fea4d36',\n",
      "                                                0)),\n",
      " ('mul-a59cec3dddb377746c1529feb386ab9f', 1): (<built-in function mul>,\n",
      "                                               ('add-33cba7fa3ec2aff46cefd3edb3d7a8d3',\n",
      "                                                1),\n",
      "                                               ('add-57936cca728ab097b21206a93fea4d36',\n",
      "                                                1)),\n",
      " ('sum-1c6258690eb840d3327f91cf315d3d86', 0): (<function apply at 0x7ff87029a158>,\n",
      "                                               functools.partial(<function sum at 0x7ff852d0d8c8>, dtype=dtype('int64')),\n",
      "                                               [('mul-a59cec3dddb377746c1529feb386ab9f',\n",
      "                                                 0)],\n",
      "                                               {'axis': (0,),\n",
      "                                                'keepdims': True}),\n",
      " ('sum-1c6258690eb840d3327f91cf315d3d86', 1): (<function apply at 0x7ff87029a158>,\n",
      "                                               functools.partial(<function sum at 0x7ff852d0d8c8>, dtype=dtype('int64')),\n",
      "                                               [('mul-a59cec3dddb377746c1529feb386ab9f',\n",
      "                                                 1)],\n",
      "                                               {'axis': (0,),\n",
      "                                                'keepdims': True}),\n",
      " ('sum-aggregate-e2baf80ba9e0ac683a5dc8a3792f43c4',): (<toolz.functoolz.Compose object at 0x7ff849d19ac8>,\n",
      "                                                       [('sum-1c6258690eb840d3327f91cf315d3d86',\n",
      "                                                         0),\n",
      "                                                        ('sum-1c6258690eb840d3327f91cf315d3d86',\n",
      "                                                         1)])}\n"
     ]
    }
   ],
   "source": [
    "import pprint\n",
    "pprint.pprint(dict(a.dask))\n",
    "#a.visualize()"
   ]
  },
  {
   "cell_type": "code",
   "execution_count": null,
   "metadata": {},
   "outputs": [],
   "source": [
    "c = a.dask['sum-aggregate-e2baf80ba9e0ac683a5dc8a3792f43c4',][0]"
   ]
  },
  {
   "cell_type": "code",
   "execution_count": null,
   "metadata": {},
   "outputs": [],
   "source": [
    "c.first, c.funcs"
   ]
  },
  {
   "cell_type": "code",
   "execution_count": null,
   "metadata": {
    "scrolled": false
   },
   "outputs": [],
   "source": [
    "ast_source = astor.to_source(ast_code)\n",
    "print(ast_source)"
   ]
  },
  {
   "cell_type": "code",
   "execution_count": null,
   "metadata": {},
   "outputs": [],
   "source": [
    "%timeit pickle.loads(pickle.dumps(ast_code))"
   ]
  },
  {
   "cell_type": "code",
   "execution_count": null,
   "metadata": {},
   "outputs": [],
   "source": [
    "ast_exec = compile(ast_code, filename='<ast>', mode='exec')\n",
    "%timeit pickle.loads(pickle.dumps(ast_exec))"
   ]
  },
  {
   "cell_type": "code",
   "execution_count": null,
   "metadata": {},
   "outputs": [],
   "source": [
    "%timeit pickle.loads(pickle.dumps(ast_source))"
   ]
  },
  {
   "cell_type": "code",
   "execution_count": null,
   "metadata": {},
   "outputs": [],
   "source": [
    "%timeit compile(ast_source, filename='<ast>', mode='exec')"
   ]
  },
  {
   "cell_type": "code",
   "execution_count": null,
   "metadata": {},
   "outputs": [],
   "source": [
    "%timeit pickle.loads(pickle.dumps(ast_source))"
   ]
  },
  {
   "cell_type": "code",
   "execution_count": null,
   "metadata": {},
   "outputs": [],
   "source": [
    "astor.to_source(ast.Module(body=[ast.UnaryOp(ast.UAdd(), ast.Name('x', ast.Load()))]))"
   ]
  }
 ],
 "metadata": {
  "kernelspec": {
   "display_name": "Python 3",
   "language": "python",
   "name": "python3"
  },
  "language_info": {
   "codemirror_mode": {
    "name": "ipython",
    "version": 3
   },
   "file_extension": ".py",
   "mimetype": "text/x-python",
   "name": "python",
   "nbconvert_exporter": "python",
   "pygments_lexer": "ipython3",
   "version": "3.6.5"
  }
 },
 "nbformat": 4,
 "nbformat_minor": 2
}
