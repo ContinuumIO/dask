{
 "cells": [
  {
   "cell_type": "code",
   "execution_count": null,
   "metadata": {
    "scrolled": false
   },
   "outputs": [],
   "source": [
    "from dask.optimization_ast import compile_ast\n",
    "import pickle\n",
    "import dask.array as da\n",
    "import numpy as np\n",
    "\n",
    "def da_compile_ast(a):\n",
    "    dsk = compile_ast(a.__dask_graph__(), a.__dask_keys__())\n",
    "    return da.Array(dsk, a.name, a.chunks, a.dtype, a.shape)\n",
    "\n",
    "def define_std():\n",
    "    a = da.arange(4, chunks=2)\n",
    "    a = ((a + 1) * ((a > 2) + 2))\n",
    "    a = (a * 3) + np.array([7, 8, 9, 10])\n",
    "    a = a.sum()\n",
    "    return a\n",
    "\n",
    "def define_ast():\n",
    "    a = da.arange(4, chunks=2)\n",
    "    a = ((a + 1) * ((a > 2) + 2))\n",
    "    a = da_compile_ast(a)\n",
    "    a = (a * 3) + np.array([7, 8, 9, 10])\n",
    "    a = a.sum()\n",
    "    a = da_compile_ast(a)\n",
    "    return a\n",
    "\n",
    "da_std = define_std()\n",
    "da_ast = define_ast()\n",
    "da_std.compute(), da_ast.compute()"
   ]
  },
  {
   "cell_type": "code",
   "execution_count": null,
   "metadata": {},
   "outputs": [],
   "source": [
    "pickle.loads(pickle.dumps(da_ast)).compute()"
   ]
  },
  {
   "cell_type": "code",
   "execution_count": null,
   "metadata": {},
   "outputs": [],
   "source": [
    "%timeit define_std()\n",
    "%timeit da_std.compute(optimize_graph=False)\n",
    "%timeit da_std.compute(optimize_graph=True)\n",
    "%timeit define_ast()\n",
    "%timeit da_ast.compute(optimize_graph=False)\n",
    "%timeit da_ast.compute(optimize_graph=True)"
   ]
  },
  {
   "cell_type": "code",
   "execution_count": null,
   "metadata": {},
   "outputs": [],
   "source": [
    "for k, v in da_ast.dask.items():\n",
    "    print(k)\n",
    "    print(v)\n",
    "    print(v[0].constant_kwargs)\n",
    "    print(\"-----------------------\")\n",
    "    print(v[0].source)\n",
    "    print(\"=======================\")    "
   ]
  },
  {
   "cell_type": "code",
   "execution_count": null,
   "metadata": {
    "scrolled": false
   },
   "outputs": [],
   "source": [
    "da_std.visualize()"
   ]
  },
  {
   "cell_type": "code",
   "execution_count": null,
   "metadata": {},
   "outputs": [],
   "source": [
    "da_ast.visualize()"
   ]
  },
  {
   "cell_type": "code",
   "execution_count": null,
   "metadata": {},
   "outputs": [],
   "source": []
  }
 ],
 "metadata": {
  "kernelspec": {
   "display_name": "Python 3",
   "language": "python",
   "name": "python3"
  },
  "language_info": {
   "codemirror_mode": {
    "name": "ipython",
    "version": 3
   },
   "file_extension": ".py",
   "mimetype": "text/x-python",
   "name": "python",
   "nbconvert_exporter": "python",
   "pygments_lexer": "ipython3",
   "version": "3.6.5"
  }
 },
 "nbformat": 4,
 "nbformat_minor": 2
}
